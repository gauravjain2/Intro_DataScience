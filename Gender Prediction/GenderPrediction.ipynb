{
 "cells": [
  {
   "cell_type": "code",
   "execution_count": null,
   "metadata": {},
   "outputs": [],
   "source": [
    " from sklearn import tree"
   ]
  },
  {
   "cell_type": "code",
   "execution_count": null,
   "metadata": {},
   "outputs": [],
   "source": [
    "X=[[181,80,44],[177,70,43],[160,60,38],[154,54,37],[166,65,40],[190,90,47],\n",
    "  [175,64,39],[177,70,40],[159,55,37],[171,75,42],[181,85,43]]\n",
    "y=[0,1,1,1,0,0,0,1,0,1,0]"
   ]
  },
  {
   "cell_type": "code",
   "execution_count": null,
   "metadata": {},
   "outputs": [],
   "source": [
    "clf_Tree=tree.DecisionTreeClassifier()\n",
    "clf_Tree=clf_Tree.fit(X,y)\n",
    "\n",
    "#RandomForest\n",
    "from sklearn.ensemble import RandomForestRegressor\n",
    "clf_rf=RandomForestRegressor()\n",
    "clf_rf=clf_rf.fit(X,y)\n",
    "\n",
    "#logistic Regression\n",
    "from sklearn.linear_model import LogisticRegression\n",
    "clf_lr=LogisticRegression(random_state=0)\n",
    "clf_lr=clf_lr.fit(X,y)"
   ]
  },
  {
   "cell_type": "code",
   "execution_count": null,
   "metadata": {},
   "outputs": [],
   "source": [
    "print(\"Enter height(in cm): \")\n",
    "h=int(input())\n",
    "print(\"Enter weight (in kg): \")\n",
    "w=int(input())\n",
    "print(\"Enter Shoe size: \")\n",
    "ss=int(input())\n",
    "pData=[h,w,ss]\n",
    "pred=['male','female']\n",
    "prediction=int(clf_Tree.predict([pData]))\n",
    "print(\"Prediction form Decision Tree: \"+str(pred[prediction]))\n",
    "pred2=int(clf_rf.predict([pData]))\n",
    "print(\"Prediction form Random Forest: \"+str(pred[pred2]))\n",
    "pred3=int(clf_lr.predict([pData]))\n",
    "print(\"Prediction form Logistic Regression: \"+str(pred[pred3]))"
   ]
  }
 ],
 "metadata": {
  "kernelspec": {
   "display_name": "Python 3",
   "language": "python",
   "name": "python3"
  },
  "language_info": {
   "codemirror_mode": {
    "name": "ipython",
    "version": 3
   },
   "file_extension": ".py",
   "mimetype": "text/x-python",
   "name": "python",
   "nbconvert_exporter": "python",
   "pygments_lexer": "ipython3",
   "version": "3.7.4"
  }
 },
 "nbformat": 4,
 "nbformat_minor": 4
}
